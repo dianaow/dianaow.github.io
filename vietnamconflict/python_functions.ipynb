{
 "cells": [
  {
   "cell_type": "code",
   "execution_count": null,
   "metadata": {},
   "outputs": [],
   "source": [
    "import pandas as pd\n",
    "import numpy as np\n",
    "import re\n",
    "import warnings\n",
    "warnings.filterwarnings(\"ignore\")\n",
    "from datetime import date, datetime, timedelta\n",
    "\n",
    "import altair as alt\n",
    "# for the notebook only (not for JupyterLab) run this command once per session\n",
    "alt.renderers.enable('notebook')\n",
    "alt.data_transformers.enable('default', max_rows=None)"
   ]
  },
  {
   "cell_type": "code",
   "execution_count": null,
   "metadata": {
    "scrolled": true
   },
   "outputs": [],
   "source": [
    "df = pd.read_csv('./data/VietnamConflict.csv')"
   ]
  },
  {
   "cell_type": "code",
   "execution_count": null,
   "metadata": {},
   "outputs": [],
   "source": [
    "df.head()"
   ]
  },
  {
   "cell_type": "code",
   "execution_count": null,
   "metadata": {
    "scrolled": false
   },
   "outputs": [],
   "source": [
    "df.info()"
   ]
  },
  {
   "cell_type": "code",
   "execution_count": null,
   "metadata": {},
   "outputs": [],
   "source": [
    "# NOTE: ALTAIR ONLY WORKS IF COLUMN CONVERTED TO DATETIME WITH PD.TO_DATETIME,\n",
    "df.FATALITY_DATE = pd.to_datetime(df.FATALITY_DATE, format='%Y%m%d', errors='ignore')"
   ]
  },
  {
   "cell_type": "code",
   "execution_count": null,
   "metadata": {},
   "outputs": [],
   "source": [
    "df1 = df[df['BRANCH'].isin(['ARMY', 'MARINE CORPS'])]\n",
    "\n",
    "infantry_MOS = ['INFANTRY OPERATIONS AND INTELLIGENCE SPECIALIST', 'INDIRECT FIRE INFANTRYMAN', 'INFANTRY UNIT LEADER', 'PARACHUTIST, INFANTRY UNIT COMMANDER', 'INFANTRYMAN', 'RIFLEMAN', 'MACHINEGUNNER', 'INFANTRY OFFICER (I)', 'ASSAULTMAN', 'HEAVY ANTI-ARMOR WEAPONS INFANTRYMAN', 'MORTARMAN', 'INFANTRY UNIT COMMANDER', 'BASIC INFANTRY OFFICER', 'RANGER, OPERATIONS AND TRAINING STAFF OFFICER (G3,A3,S3)', 'INFANTRY SENIOR SERGEANT', 'BASIC INFANTRYMAN', 'RANGER, UNIT OFFICER, TRAINING CENTER', 'RANGER, INFANTRY UNIT COMMANDER', 'RANGER', 'INFANTRY UNIT COMMANDER, (MECHANIZED)', 'LAV ASSAULTMAN', 'SCOUT-SNIPER']\n",
    "\n",
    "# Assign category to soldier\n",
    "df1['category'] = np.where(df1['POSITION'].isin(infantry_MOS), 'infantry', 'non-infantry')"
   ]
  },
  {
   "cell_type": "code",
   "execution_count": null,
   "metadata": {},
   "outputs": [],
   "source": [
    "def plot_yearly_deaths(df, category, sort_order, text_align, dx, title):\n",
    "\n",
    "    # Data Transformation\n",
    "    years = pd.DataFrame(list(range(1960, 1976, 1))).rename(columns={0:'FATALITY_YEAR'})\n",
    "    df = df[df['category'] == category]\n",
    "    df['count'] = 1\n",
    "    df = pd.merge(years, df, on='FATALITY_YEAR', how='left')\n",
    "    df['count'].fillna(0, inplace=True)\n",
    "    return df\n",
    "    # Create bar chart of fatality count vs fatality year\n",
    "    chart = alt.Chart(df).mark_bar().encode(\n",
    "                y=alt.Y('FATALITY_YEAR:O', axis=None, title=\"\"),\n",
    "                x=alt.X('sum(count)', sort=alt.SortOrder(sort_order), scale=alt.Scale(domain=[0, 11000]), title='Count of deaths')\n",
    "            ).properties(width=400, height=300, title=title)\n",
    "\n",
    "    # Create text labels for each bar\n",
    "    text = chart.mark_text(\n",
    "               align=text_align,\n",
    "               baseline='middle',\n",
    "               dx=dx\n",
    "           ).encode(\n",
    "               text='sum(count)'\n",
    "           )\n",
    "    \n",
    "    # Create shared 'spine' of range of years\n",
    "    middle = alt.Chart(df.drop_duplicates('FATALITY_YEAR', keep='first')).encode(\n",
    "                y=alt.Y('FATALITY_YEAR:O', axis=None),\n",
    "                text=alt.Text('FATALITY_YEAR:O'),\n",
    "            ).mark_text(\n",
    "                align='center',\n",
    "                baseline='middle',\n",
    "                dx=0,\n",
    "                dy=0\n",
    "            ).properties(width=20, height=300)\n",
    "\n",
    "    return chart, middle, text"
   ]
  },
  {
   "cell_type": "code",
   "execution_count": null,
   "metadata": {},
   "outputs": [],
   "source": [
    "plot_yearly_deaths(df1, 'infantry', 'descending', 'right', -3, 'Infantry (Army & Marine Corps)')"
   ]
  },
  {
   "cell_type": "code",
   "execution_count": null,
   "metadata": {},
   "outputs": [],
   "source": [
    "I, years_axisI, textI = plot_yearly_deaths(df1, 'infantry', 'descending', 'right', -3, 'Infantry (Army & Marine Corps)')\n",
    "NI, years_axisNI, textNI = plot_yearly_deaths(df1, 'non-infantry', 'ascending', 'left', 3, 'Non-Infantry (Army & Marine Corps)')\n",
    "\n",
    "YEARLY_DEATHS = alt.vconcat(I + textI | years_axisI | NI + textNI)\\\n",
    "                             .configure_axis(\n",
    "                                grid=False\n",
    "                            ).configure_view(\n",
    "                                strokeOpacity=0\n",
    "                            )"
   ]
  },
  {
   "cell_type": "code",
   "execution_count": null,
   "metadata": {},
   "outputs": [],
   "source": [
    "YEARLY_DEATHS"
   ]
  },
  {
   "cell_type": "code",
   "execution_count": null,
   "metadata": {},
   "outputs": [],
   "source": [
    "def plot_yearly_deaths_cat(df, category, hostility_cond, sort_order, text_align, dx, axis_title, axis, title):\n",
    "\n",
    "    color_scale = alt.Scale(\n",
    "                    domain=['H','NH'],\n",
    "                    range=[\"#ff0092\", \"#1f9dc4\"]\n",
    "                )\n",
    "\n",
    "    # Data Transformation\n",
    "    years = pd.DataFrame(list(range(1960, 1976, 1))).rename(columns={0:'FATALITY_YEAR'})\n",
    "    df = df[df['category'] == category]\n",
    "    df = df[(df['HOSTILITY_CONDITIONS'] == hostility_cond)]\n",
    "    df['count'] = 1\n",
    "    df = pd.merge(years, df, on='FATALITY_YEAR', how='left')\n",
    "    df['count'].fillna(0, inplace=True)\n",
    "    \n",
    "    chart = alt.Chart(df).mark_bar().encode(\n",
    "                y=alt.Y('FATALITY_YEAR:O', axis=None, title=''),\n",
    "                x=alt.X('sum(count)', axis=axis, sort=alt.SortOrder(sort_order), scale=alt.Scale(domain=[0, 11000]), title=axis_title),\n",
    "                color=alt.Color(\n",
    "                    'HOSTILITY_CONDITIONS',\n",
    "                    legend=alt.Legend(title='Hostility Conditions'),\n",
    "                    scale=color_scale\n",
    "                )\n",
    "            ).properties(width=400, height=300, title=title)\n",
    "\n",
    "    text = chart.mark_text(\n",
    "               align=text_align,\n",
    "               baseline='middle',\n",
    "               dx=dx\n",
    "           ).encode(\n",
    "               text='sum(count)'\n",
    "           )\n",
    "    \n",
    "    return chart, text"
   ]
  },
  {
   "cell_type": "code",
   "execution_count": null,
   "metadata": {},
   "outputs": [],
   "source": [
    "I_H, text_I_H = plot_yearly_deaths_cat(df1, 'infantry', 'H', 'descending', 'right', -3, '', None, 'Infantry (Army & Marine Corps)')\n",
    "I_NH, text_I_NH = plot_yearly_deaths_cat(df1, 'infantry', 'NH', 'descending', 'right', -3, '', alt.Axis(), '')\n",
    "\n",
    "NI_H, text_NI_H = plot_yearly_deaths_cat(df1, 'non-infantry', 'H', 'ascending', 'left', 3, '', None, 'Non-Infantry (Army & Marine Corps)')\n",
    "NI_NH, text_NI_NH = plot_yearly_deaths_cat(df1, 'non-infantry', 'NH', 'ascending', 'left', 3, '', alt.Axis(), '')\n",
    "\n",
    "MONTHLY_MSK_CAT = alt.vconcat(I_H + text_I_H | years_axisI | NI_H + text_NI_H, \\\n",
    "                              I_NH + text_I_NH | years_axisI | NI_NH + text_NI_NH)\\\n",
    "                 .configure_axis(\n",
    "                    grid=False\n",
    "                ).configure_view(\n",
    "                    strokeOpacity=0\n",
    "                )"
   ]
  },
  {
   "cell_type": "code",
   "execution_count": null,
   "metadata": {},
   "outputs": [],
   "source": [
    "def plot_fatality_reason(df, category, sort_order, text_align, dx, title):\n",
    "\n",
    "    # Create a list to rank fatality reason in descending order\n",
    "    sortby = pd.DataFrame(df.groupby('FATALITY_2').count()).reset_index().sort_values('SERVICE_TYPE', ascending=False)\n",
    "    sortby_list = list(sortby['FATALITY_2'].values)\n",
    "    sortby_list.remove('UNKNOWN')\n",
    "    sortby_list.extend(['UNKNOWN'])\n",
    "\n",
    "    # Data Transformation\n",
    "    recategorize = {'HELICOPTER CRASH -- PASSENGER (MC)': 'HELICOPTER CRASH',\\\n",
    "                'HELICOPTER CRASH -- CREW (MC)': 'HELICOPTER CRASH', \\\n",
    "                'AIRCRAFT CRASH -- PASSENGER (MC)': 'AIRCRAFT CRASH', \\\n",
    "                'AIRCRAFT CRASH -- CREW (MC)': 'AIRCRAFT CRASH',\\\n",
    "                'SHIP/SUBMARINE ACCIDENT AT SEA (MC)': 'ACCIDENT AT SEA', \\\n",
    "                'VEHICLE CRASH (MC)': 'VEHICLE CRASH',\\\n",
    "                'HEART RELATED': 'HEALTH RELATED', \\\n",
    "                'CANCER': 'HEALTH RELATED', \\\n",
    "                'STROKE': 'HEALTH RELATED',\\\n",
    "                'GUNSHOT': 'OTHER WEAPONS', \\\n",
    "                'BLUNT FORCE': 'OTHER WEAPONS', \\\n",
    "                'LAND MINE': 'OTHER WEAPONS',\\\n",
    "                'MISSILE': 'OTHER WEAPONS'}\n",
    "\n",
    "    df.replace({\"FATALITY_2\": recategorize}, inplace=True)\n",
    "    df.FATALITY_2.fillna('UNKNOWN', inplace=True)\n",
    "    fatality_reason = pd.DataFrame(df['FATALITY_2'].unique()).rename(columns={0:'FATALITY_2'})\n",
    "        \n",
    "    df = df[df['category'] == category]\n",
    "    df['count'] = 1\n",
    "    \n",
    "    df = pd.merge(fatality_reason, df, on='FATALITY_2', how='left')\n",
    "    df['count'].fillna(0, inplace=True)\n",
    "    \n",
    "    # Create bar chart of fatality count vs fatality reason\n",
    "    chart = alt.Chart(df).mark_bar().encode(\n",
    "                y=alt.Y('FATALITY_2:O', title=\"\", axis=None, scale=alt.Scale(domain=sortby_list)),\n",
    "                x=alt.X('sum(count)', sort=alt.SortOrder(sort_order), scale=alt.Scale(domain=[0, 15000]), title='Count of deaths')\n",
    "            ).properties(width=400, height=400, title=title)\n",
    "\n",
    "    # Create text labels for each bar\n",
    "    text = chart.mark_text(\n",
    "               align=text_align,\n",
    "               baseline='middle',\n",
    "               dx=dx\n",
    "           ).encode(\n",
    "               text='sum(count)'\n",
    "           )\n",
    "    \n",
    "    # Create shared 'spine' of ranked fatality reasons \n",
    "    middle = alt.Chart(fatality_reason).encode(\n",
    "                y=alt.Y('FATALITY_2:O', axis=None, scale=alt.Scale(domain=sortby_list)),\n",
    "             ).mark_text(\n",
    "                align='center',\n",
    "                baseline='middle',\n",
    "                dx=0,\n",
    "                dy=0\n",
    "             ).encode(\n",
    "                text='FATALITY_2:O'\n",
    "             ).properties(width=20, height=400)\n",
    "\n",
    "    return chart, middle, text"
   ]
  },
  {
   "cell_type": "code",
   "execution_count": null,
   "metadata": {},
   "outputs": [],
   "source": [
    "I2, years_axisI2, textI2 = plot_fatality_reason(df1, 'infantry', 'descending', 'right', -3, 'Infantry (Army & Marine Corps)')\n",
    "NI2, years_axisNI2, textNI2 = plot_fatality_reason(df1, 'non-infantry', 'ascending', 'left', 3, 'Non-Infantry (Army & Marine Corps)')\n",
    "\n",
    "FATALITY_REASON = alt.hconcat(I2 + textI2 | years_axisI2 | NI2 + textNI2)\\\n",
    "                     .configure_axis(\n",
    "                        grid=False\n",
    "                    ).configure_view(\n",
    "                        strokeOpacity=0\n",
    "                    )"
   ]
  },
  {
   "cell_type": "code",
   "execution_count": null,
   "metadata": {},
   "outputs": [],
   "source": [
    "# Rename the provinces \n",
    "recategorize = {'Thua Thien': 'Thua Thien - Hue',\\\n",
    "                'Kontum': 'Kon Tum',\\\n",
    "                'Darlac': 'Dak Lak|Dac Lac',\\\n",
    "                'Gia Dinh': 'Ho Chi Minh City|Ho Chi Minh',\\\n",
    "                'Phuoc Tuy': 'Ba Ria - VTau|Ba Ria-Vung Tau',\\\n",
    "                'Pleiku': 'Gia Lai',\\\n",
    "                'Bien Hoa': 'Dong Nai',\\\n",
    "                'Quang Tin': 'Quang Nam'}\n",
    "\n",
    "\n",
    "df.replace({\"DEPLOYMENT_PROVINCE\": recategorize}, inplace=True)\n",
    "df['DEPLOYMENT_PROVINCE'] = df['DEPLOYMENT_PROVINCE'].str.title()\n",
    "\n",
    "death_perc = pd.DataFrame(df.groupby('DEPLOYMENT_PROVINCE')['FATALITY_DATE'].count().sort_values(ascending=False) / len(df)).reset_index()\n",
    "death_perc.rename(columns={'FATALITY_DATE': 'percentage'}, inplace=True)\n",
    "death_perc_trunc = list(death_perc[0:10].DEPLOYMENT_PROVINCE)"
   ]
  },
  {
   "cell_type": "code",
   "execution_count": null,
   "metadata": {},
   "outputs": [],
   "source": [
    "death_perc_trunc"
   ]
  },
  {
   "cell_type": "code",
   "execution_count": null,
   "metadata": {},
   "outputs": [],
   "source": [
    "death_perc_trunc_sorted = ['Quang Tri', 'Thua Thien - Hue', 'Quang Nam', 'Quang Ngai',\\\n",
    "                           'Kon Tum', 'Binh Dinh', 'Binh Duong', 'Tay Ninh']"
   ]
  },
  {
   "cell_type": "code",
   "execution_count": null,
   "metadata": {},
   "outputs": [],
   "source": [
    "def plot_monthly_deaths(df, sortby_list):\n",
    "    \n",
    "    \n",
    "    year_months = pd.DataFrame(pd.date_range(start='1965 March', end='1973 March', freq='MS').strftime(\"%Y %b\").tolist())\\\n",
    "                .rename(columns={0: 'FATALITY_DATE'})\n",
    "\n",
    "    misaligned_dates = df[(df['FATALITY_YEAR'] - df['FATALITY_DATE'].dt.strftime(\"%Y\").astype(int)) != 0]\n",
    "    df = df[~df.index.isin(misaligned_dates.index)]\n",
    "    \n",
    "    df['DEPLOYMENT_PROVINCE_1'] = np.where(df['DEPLOYMENT_PROVINCE'].isin(sortby_list), df['DEPLOYMENT_PROVINCE'], 'Other provinces')\n",
    "    df = pd.DataFrame(df.groupby([df['FATALITY_DATE'].dt.strftime(\"%Y %b\"), \"DEPLOYMENT_PROVINCE_1\"])['FATALITY_YEAR']\\\n",
    "                          .count().sort_values()).reset_index().rename(columns={'FATALITY_YEAR': 'count'})\n",
    "    \n",
    "    df = pd.merge(year_months, df, on='FATALITY_DATE', how='left')\n",
    "    df.FATALITY_DATE = pd.to_datetime(df.FATALITY_DATE, format='%Y %b')\n",
    "    df['count'].fillna(0, inplace=True)\n",
    "  \n",
    "    df.to_csv(\"./data/deathPercentages_byProvince_byTime.csv\", index=False)\n",
    "    df.to_json('./data/deathPercentages_byProvince_byTime.json', orient='records')\n",
    "    \n",
    "    sortby_list.extend(['Other provinces'])\n",
    "    color_scale = alt.Scale(\n",
    "                domain=sortby_list,\n",
    "                range=['#B2172A', '#E3191C','#FD8D3B', '#FED975', \\\n",
    "                       '#31A353', '#74C476', '#9ECAE0', '#2066AC', '#BDBDBD'] \n",
    "              )\n",
    "        \n",
    "    return alt.Chart(df).mark_bar(size=10).encode(\n",
    "            x=alt.X('yearmonth(FATALITY_DATE):T', title=\"\"),\n",
    "            y=alt.Y('count:Q', sort=alt.SortOrder('ascending'), scale=alt.Scale(domain=[0, 3000]), title='Count of deaths'),\n",
    "            color=alt.Color(\n",
    "                'DEPLOYMENT_PROVINCE_1',\n",
    "                scale=color_scale\n",
    "            )\n",
    "        ).properties(width=1200, height=250)    "
   ]
  },
  {
   "cell_type": "code",
   "execution_count": null,
   "metadata": {
    "scrolled": true
   },
   "outputs": [],
   "source": [
    "MONTHLY_DEATHS = plot_monthly_deaths(df, death_perc_trunc_sorted)"
   ]
  },
  {
   "cell_type": "code",
   "execution_count": null,
   "metadata": {},
   "outputs": [],
   "source": [
    "df_timeline = pd.read_csv('./data/VietnamWarTimeline.csv')\n",
    "df_timeline.to_json('./data/VietnamWarTimeline.json', orient='records')"
   ]
  },
  {
   "cell_type": "code",
   "execution_count": null,
   "metadata": {},
   "outputs": [],
   "source": [
    "def plot_timeline(df):\n",
    "    \n",
    "    color_scale = alt.Scale(\n",
    "                domain=['Yes','No'],\n",
    "                range=[\"#000000\", \"#ffffff\"]\n",
    "            )\n",
    "\n",
    "    year_months = pd.DataFrame(pd.date_range(start='1965 March', end='1973 March', freq='MS').strftime(\"%Y %b\").tolist())\\\n",
    "                .rename(columns={0: 'FATALITY_DATE'})\n",
    "    \n",
    "    df = df.rename(columns={'Date': 'FATALITY_DATE'})\n",
    "    df['plot'] = 'Yes'\n",
    "    df = pd.merge(year_months, df, on='FATALITY_DATE', how='left')\n",
    "    df.FATALITY_DATE = pd.to_datetime(df.FATALITY_DATE, format='%Y %b')\n",
    "    df['plot'] = df['plot'].fillna('No')\n",
    "    df['y'] = 3000 \n",
    "    df = df.sort_values('FATALITY_DATE', ascending=True)\n",
    "    df['Event'] = df['Event'].fillna('')\n",
    "    df.to_json('./data/VietnamWarTimeline.json', orient='records')\n",
    "    \n",
    "    chart = alt.Chart(df).mark_tick(dx=0, dy=0).encode(\n",
    "        x=alt.X('yearmonth(FATALITY_DATE):T', axis=None, title=None),\n",
    "        y=alt.Y('y:Q', axis=None, title=None),\n",
    "        color=alt.Color(\n",
    "            'plot',\n",
    "            scale=color_scale,\n",
    "            legend=None\n",
    "        )\n",
    "        ).properties(\n",
    "            width=1200, height=250\n",
    "        )\n",
    "        \n",
    "    text = alt.Chart(df.drop_duplicates('Event', keep='first')).mark_text(\n",
    "        angle=90, dx=10, dy=0, baseline='middle', align='left',\n",
    "    ).encode(\n",
    "        x=alt.X('yearmonth(FATALITY_DATE):T', axis=None, title=None),\n",
    "        y=alt.Y('y:Q', axis=None, title=None),\n",
    "        text='Event:O'\n",
    "    ).properties(\n",
    "            width=1200, height=250\n",
    "        )\n",
    "    \n",
    "    return chart + text"
   ]
  },
  {
   "cell_type": "code",
   "execution_count": null,
   "metadata": {
    "scrolled": true
   },
   "outputs": [],
   "source": [
    " timeline = plot_timeline(df_timeline)"
   ]
  },
  {
   "cell_type": "code",
   "execution_count": null,
   "metadata": {
    "scrolled": true
   },
   "outputs": [],
   "source": [
    "stacked = alt.layer(MONTHLY_DEATHS, timeline).resolve_scale(color='independent', y='independent')"
   ]
  },
  {
   "cell_type": "code",
   "execution_count": null,
   "metadata": {},
   "outputs": [],
   "source": [
    "stacked"
   ]
  },
  {
   "cell_type": "code",
   "execution_count": null,
   "metadata": {
    "scrolled": true
   },
   "outputs": [],
   "source": [
    "timeline"
   ]
  },
  {
   "cell_type": "code",
   "execution_count": 23,
   "metadata": {
    "scrolled": true
   },
   "outputs": [],
   "source": [
    "df_results = pd.read_csv('../results.csv')\n",
    "df_results.to_json('../results.json', orient='records')\n",
    "\n",
    "df_races = pd.read_csv('../races.csv')\n",
    "df_races.to_json('../races.json', orient='records')"
   ]
  },
  {
   "cell_type": "code",
   "execution_count": null,
   "metadata": {},
   "outputs": [],
   "source": []
  }
 ],
 "metadata": {
  "kernelspec": {
   "display_name": "Python 3",
   "language": "python",
   "name": "python3"
  },
  "language_info": {
   "codemirror_mode": {
    "name": "ipython",
    "version": 3
   },
   "file_extension": ".py",
   "mimetype": "text/x-python",
   "name": "python",
   "nbconvert_exporter": "python",
   "pygments_lexer": "ipython3",
   "version": "3.6.5"
  }
 },
 "nbformat": 4,
 "nbformat_minor": 2
}
